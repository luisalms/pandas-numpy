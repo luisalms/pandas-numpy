{
 "cells": [
  {
   "cell_type": "markdown",
   "id": "6f3d6f8e",
   "metadata": {},
   "source": [
    "# DataFrames e Series"
   ]
  },
  {
   "cell_type": "markdown",
   "id": "aeaf1309",
   "metadata": {},
   "source": [
    "Um **DataFrame é um dicionário**... de listas.<br>\n",
    "<br>\n",
    "Cuja as **chaves** do dicionário são usadas como **cabeçalho** de coluna;<br>\n",
    "e os **valores** em cada lista são as **colunas** do DataFrame."
   ]
  },
  {
   "cell_type": "markdown",
   "id": "f6cb3bf8",
   "metadata": {},
   "source": [
    "_______________________________________________________________________________________________________________ "
   ]
  },
  {
   "cell_type": "markdown",
   "id": "13a6a735",
   "metadata": {},
   "source": [
    "### Um DataFrame é criado a partir de duas (ou mais) possibilidades:"
   ]
  },
  {
   "cell_type": "markdown",
   "id": "c2f95fdc",
   "metadata": {},
   "source": [
    "**1-** Pode-se **criar um dicionário**, atribuindo-o a uma variável:"
   ]
  },
  {
   "cell_type": "code",
   "execution_count": 17,
   "id": "df204093",
   "metadata": {},
   "outputs": [
    {
     "name": "stdout",
     "output_type": "stream",
     "text": [
      "{'Mulheres': ['Ana', 'Paula', 'Marcela'], 'Homens': ['Caio', 'Arthur', 'Mairo'], 'Filhos': ['Sim', 'Não', 'Não']}\n"
     ]
    }
   ],
   "source": [
    "dici = {\"Mulheres\": [\"Ana\", \"Paula\", \"Marcela\"],\n",
    "       \"Homens\": [\"Caio\", \"Arthur\", \"Mairo\"],\n",
    "       \"Filhos\": [\"Sim\", \"Não\", \"Não\"]}  \n",
    "print(dici)"
   ]
  },
  {
   "cell_type": "markdown",
   "id": "f9243974",
   "metadata": {},
   "source": [
    "E depois usar essa variável como **parâmetro** na função **DataFrame()**.<br> Esta função transforma o dicionário em um DataFrame."
   ]
  },
  {
   "cell_type": "code",
   "execution_count": 36,
   "id": "e9ad1c0d",
   "metadata": {},
   "outputs": [
    {
     "name": "stdout",
     "output_type": "stream",
     "text": [
      "  Mulheres  Homens Filhos\n",
      "0      Ana    Caio    Sim\n",
      "1    Paula  Arthur    Não\n",
      "2  Marcela   Mairo    Não\n"
     ]
    }
   ],
   "source": [
    "dataframe = pd.DataFrame(dici)\n",
    "print(dataframe)"
   ]
  },
  {
   "cell_type": "markdown",
   "id": "11f368a5",
   "metadata": {},
   "source": [
    "**2-** Também é possível criar o dicionário direto **dentro da função DataFrame()**:"
   ]
  },
  {
   "cell_type": "code",
   "execution_count": 32,
   "id": "4fea6857",
   "metadata": {},
   "outputs": [
    {
     "data": {
      "text/html": [
       "<div>\n",
       "<style scoped>\n",
       "    .dataframe tbody tr th:only-of-type {\n",
       "        vertical-align: middle;\n",
       "    }\n",
       "\n",
       "    .dataframe tbody tr th {\n",
       "        vertical-align: top;\n",
       "    }\n",
       "\n",
       "    .dataframe thead th {\n",
       "        text-align: right;\n",
       "    }\n",
       "</style>\n",
       "<table border=\"1\" class=\"dataframe\">\n",
       "  <thead>\n",
       "    <tr style=\"text-align: right;\">\n",
       "      <th></th>\n",
       "      <th>Nome</th>\n",
       "      <th>Idade</th>\n",
       "      <th>Profissão</th>\n",
       "    </tr>\n",
       "  </thead>\n",
       "  <tbody>\n",
       "    <tr>\n",
       "      <th>0</th>\n",
       "      <td>Matheus</td>\n",
       "      <td>20</td>\n",
       "      <td>Professor</td>\n",
       "    </tr>\n",
       "    <tr>\n",
       "      <th>1</th>\n",
       "      <td>Mario</td>\n",
       "      <td>30</td>\n",
       "      <td>Médico</td>\n",
       "    </tr>\n",
       "    <tr>\n",
       "      <th>2</th>\n",
       "      <td>Sérgio</td>\n",
       "      <td>40</td>\n",
       "      <td>Dentista</td>\n",
       "    </tr>\n",
       "  </tbody>\n",
       "</table>\n",
       "</div>"
      ],
      "text/plain": [
       "      Nome  Idade  Profissão\n",
       "0  Matheus     20  Professor\n",
       "1    Mario     30     Médico\n",
       "2   Sérgio     40   Dentista"
      ]
     },
     "execution_count": 32,
     "metadata": {},
     "output_type": "execute_result"
    }
   ],
   "source": [
    "import pandas as pd\n",
    "\n",
    "df = pd.DataFrame({\"Nome\": [\"Matheus\", \"Mario\", \"Sérgio\"],\n",
    "                 \"Idade\": [20, 30, 40],\n",
    "                 \"Profissão\": [\"Professor\", \"Médico\", \"Dentista\"]})\n",
    "df.head()"
   ]
  },
  {
   "cell_type": "markdown",
   "id": "50cec896",
   "metadata": {},
   "source": [
    "### Cada coluna em a DataFrame é um **Series**."
   ]
  },
  {
   "cell_type": "markdown",
   "id": "8044d44e",
   "metadata": {},
   "source": [
    "Para selecionar a coluna, use o rótulo da coluna entre colchetes [ ]"
   ]
  },
  {
   "cell_type": "code",
   "execution_count": 33,
   "id": "377430a6",
   "metadata": {},
   "outputs": [
    {
     "data": {
      "text/plain": [
       "0    Matheus\n",
       "1      Mario\n",
       "2     Sérgio\n",
       "Name: Nome, dtype: object"
      ]
     },
     "execution_count": 33,
     "metadata": {},
     "output_type": "execute_result"
    }
   ],
   "source": [
    "df[\"Nome\"]"
   ]
  },
  {
   "cell_type": "markdown",
   "id": "bff46485",
   "metadata": {},
   "source": [
    "Se você estiver familiarizado com dicionários Python, a seleção de uma única coluna é muito semelhante à seleção de valores de dicionário com base na chave.<br>"
   ]
  },
  {
   "cell_type": "markdown",
   "id": "a057d2a7",
   "metadata": {},
   "source": [
    "* **Manipulando Dataframes ou Series**"
   ]
  },
  {
   "cell_type": "markdown",
   "id": "82be5bf6",
   "metadata": {},
   "source": [
    "Função que busca o maior número:"
   ]
  },
  {
   "cell_type": "code",
   "execution_count": 34,
   "id": "4e579c1d",
   "metadata": {},
   "outputs": [
    {
     "data": {
      "text/plain": [
       "40"
      ]
     },
     "execution_count": 34,
     "metadata": {},
     "output_type": "execute_result"
    }
   ],
   "source": [
    "df[\"Idade\"].max()"
   ]
  },
  {
   "cell_type": "code",
   "execution_count": null,
   "id": "b354cdd6",
   "metadata": {},
   "outputs": [],
   "source": []
  },
  {
   "cell_type": "code",
   "execution_count": null,
   "id": "32e2bf4f",
   "metadata": {},
   "outputs": [],
   "source": []
  }
 ],
 "metadata": {
  "kernelspec": {
   "display_name": "Python 3 (ipykernel)",
   "language": "python",
   "name": "python3"
  },
  "language_info": {
   "codemirror_mode": {
    "name": "ipython",
    "version": 3
   },
   "file_extension": ".py",
   "mimetype": "text/x-python",
   "name": "python",
   "nbconvert_exporter": "python",
   "pygments_lexer": "ipython3",
   "version": "3.11.5"
  }
 },
 "nbformat": 4,
 "nbformat_minor": 5
}
