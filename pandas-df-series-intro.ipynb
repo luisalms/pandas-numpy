{
 "cells": [
  {
   "cell_type": "markdown",
   "id": "375aaf5d",
   "metadata": {},
   "source": [
    "# Pandas - DataFrames e Series "
   ]
  },
  {
   "cell_type": "markdown",
   "id": "823884c2",
   "metadata": {},
   "source": [
    "Ao trabalhar com dados tabulares, como dados armazenados em planilhas ou bancos de dados, o Pandas é a ferramenta certa. O Pandas ajudará você a **explorar**, **limpar** e **processar** seus dados. No Pandas, uma tabela de dados é chamada de **DataFrame**."
   ]
  },
  {
   "cell_type": "markdown",
   "id": "13c77a53",
   "metadata": {},
   "source": [
    "### DataFrame "
   ]
  },
  {
   "cell_type": "markdown",
   "id": "500c161a",
   "metadata": {},
   "source": [
    "Vamos primeiro criar um dicionário, para a partir dele, criar um DataFrame."
   ]
  },
  {
   "cell_type": "markdown",
   "id": "37beb2e0",
   "metadata": {},
   "source": [
    "#### Criando um dicionário em Pandas"
   ]
  },
  {
   "cell_type": "code",
   "execution_count": 2,
   "id": "d73eead2",
   "metadata": {},
   "outputs": [],
   "source": [
    "import pandas as pd\n",
    "alunos = {'Nomes':['Ricardo', 'Pedro', 'Caio', 'Gabriel'],\n",
    "         'Nota':[4, 7, 5.5, 9],\n",
    "         'Aprovado':['Não', 'Sim', 'Não', 'Sim']}  # criando dicionário, que recebe lista como valores."
   ]
  },
  {
   "cell_type": "markdown",
   "id": "5c82bb51",
   "metadata": {},
   "source": [
    "#### Transformando o dicionário em um DataFrame a partir da função DataFrame():"
   ]
  },
  {
   "cell_type": "markdown",
   "id": "ea2184a9",
   "metadata": {},
   "source": [
    "(dicionários também podem se tornar series e não apenas dataframes)"
   ]
  },
  {
   "cell_type": "code",
   "execution_count": 3,
   "id": "81182533",
   "metadata": {},
   "outputs": [
    {
     "name": "stdout",
     "output_type": "stream",
     "text": [
      "     Nomes  Nota Aprovado\n",
      "0  Ricardo   4.0      Não\n",
      "1    Pedro   7.0      Sim\n",
      "2     Caio   5.5      Não\n",
      "3  Gabriel   9.0      Sim\n"
     ]
    }
   ],
   "source": [
    "dataframe = pd.DataFrame(alunos) # a função DataFrame() transforma um dicionário em um dataframe / tabela. \n",
    "print(dataframe) "
   ]
  },
  {
   "cell_type": "markdown",
   "id": "75a18467",
   "metadata": {},
   "source": [
    "Principais características de um DataFrame:\n",
    "* É a estrutura de dados mais utilizada no Pandas para análise de dados tabulares. É como uma planilha com várias colunas e linhas rotuladas.\n",
    "\n",
    "* Bidimensional: Possui linhas e colunas.\n",
    "* Rotulado: Tanto as linhas quanto as colunas possuem rótulos (índices para as linhas e nomes para as colunas).\n",
    "* Heterogêneo: As colunas podem conter dados de diferentes tipos (inteiros, floats, strings, booleanos, etc.).\n",
    "* Mutável em tamanho: Você pode adicionar ou remover colunas e linhas após a criação do DataFrame.\n"
   ]
  },
  {
   "cell_type": "markdown",
   "id": "5fc3154b",
   "metadata": {},
   "source": [
    "#### Agora, aplicando a função head() para exibir o dataframe em formatação especial."
   ]
  },
  {
   "cell_type": "code",
   "execution_count": 8,
   "id": "9ac09898",
   "metadata": {},
   "outputs": [
    {
     "data": {
      "text/html": [
       "<div>\n",
       "<style scoped>\n",
       "    .dataframe tbody tr th:only-of-type {\n",
       "        vertical-align: middle;\n",
       "    }\n",
       "\n",
       "    .dataframe tbody tr th {\n",
       "        vertical-align: top;\n",
       "    }\n",
       "\n",
       "    .dataframe thead th {\n",
       "        text-align: right;\n",
       "    }\n",
       "</style>\n",
       "<table border=\"1\" class=\"dataframe\">\n",
       "  <thead>\n",
       "    <tr style=\"text-align: right;\">\n",
       "      <th></th>\n",
       "      <th>Nomes</th>\n",
       "      <th>Nota</th>\n",
       "      <th>Aprovado</th>\n",
       "    </tr>\n",
       "  </thead>\n",
       "  <tbody>\n",
       "    <tr>\n",
       "      <th>0</th>\n",
       "      <td>Ricardo</td>\n",
       "      <td>4.0</td>\n",
       "      <td>Não</td>\n",
       "    </tr>\n",
       "    <tr>\n",
       "      <th>1</th>\n",
       "      <td>Pedro</td>\n",
       "      <td>7.0</td>\n",
       "      <td>Sim</td>\n",
       "    </tr>\n",
       "    <tr>\n",
       "      <th>2</th>\n",
       "      <td>Caio</td>\n",
       "      <td>5.5</td>\n",
       "      <td>Não</td>\n",
       "    </tr>\n",
       "    <tr>\n",
       "      <th>3</th>\n",
       "      <td>Gabriel</td>\n",
       "      <td>9.0</td>\n",
       "      <td>Sim</td>\n",
       "    </tr>\n",
       "  </tbody>\n",
       "</table>\n",
       "</div>"
      ],
      "text/plain": [
       "     Nomes  Nota Aprovado\n",
       "0  Ricardo   4.0      Não\n",
       "1    Pedro   7.0      Sim\n",
       "2     Caio   5.5      Não\n",
       "3  Gabriel   9.0      Sim"
      ]
     },
     "execution_count": 8,
     "metadata": {},
     "output_type": "execute_result"
    }
   ],
   "source": [
    "dataframe.head() # retorna as primeiras linhas. "
   ]
  },
  {
   "cell_type": "markdown",
   "id": "1a67732a",
   "metadata": {},
   "source": [
    "* A função **head()** no Pandas é utilizada para visualizar as primeiras n linhas de um DataFrame ou de uma Series. Por padrão, se você não especificar o valor de n, ela exibirá as 5 primeiras linhas.\n",
    "* Em resumo, head() é uma função essencial para uma primeira inspeção rápida dos seus dados no Pandas, permitindo que você verifique a estrutura, os nomes das colunas (no caso de DataFrames) e alguns dos primeiros valores para ter uma ideia do conteúdo do seu conjunto de dados."
   ]
  },
  {
   "cell_type": "markdown",
   "id": "c2febfd1",
   "metadata": {},
   "source": [
    "### Series "
   ]
  },
  {
   "cell_type": "markdown",
   "id": "f6cbabb8",
   "metadata": {},
   "source": [
    "Cada **coluna** em um DataFrame é um Series."
   ]
  },
  {
   "cell_type": "code",
   "execution_count": 6,
   "id": "2a95578d",
   "metadata": {},
   "outputs": [
    {
     "name": "stdout",
     "output_type": "stream",
     "text": [
      "0     3\n",
      "1    76\n",
      "2     9\n",
      "3    11\n",
      "4     8\n",
      "dtype: int64\n"
     ]
    }
   ],
   "source": [
    "objeto1 = pd.Series([3, 76, 9, 11, 8])  # Series() cria vetores exclusivamente unidimensionais;\n",
    "print(objeto1)                          # aqui ele transformou uma lista em colunas com índices."
   ]
  },
  {
   "cell_type": "markdown",
   "id": "4d181ea4",
   "metadata": {},
   "source": [
    "* Como podemos obervar acima, cada valor em uma Serie é associado a um índice, que por padrão é uma sequencia numérica; mas é possivel definir rótulos personalizados (strings, datas, etc.).<br>\n",
    "* Imutável em tamanho: Uma vez criada, o tamanho de uma Series não pode ser alterado."
   ]
  },
  {
   "cell_type": "markdown",
   "id": "fe5b7991",
   "metadata": {},
   "source": [
    "### DataFrames e Series"
   ]
  },
  {
   "cell_type": "markdown",
   "id": "9f83bcab",
   "metadata": {},
   "source": [
    "\n",
    "Você pode pensar nos **DataFrames** como sendo coleções de objetos **Series**, onde cada coluna do DataFrame é uma Series individual. E sim, a ideia de trabalhar com Series separadamente para depois combiná-las ou analisar cada uma individualmente se assemelha muito à técnica de **\"dividir para conquistar\"**.<br>\n",
    "\n",
    "Aqui está o porquê essa analogia funciona tão bem:\n",
    "\n",
    "* **Decomposição:** Um DataFrame complexo pode ser \"decomposto\" em suas Series constituintes (as colunas). Isso permite focar em uma variável específica por vez para realizar análises, limpezas ou transformações.\n",
    "* **Trabalho Individual:** Cada Series pode ser manipulada individualmente usando os diversos métodos e funcionalidades que o Pandas oferece para essa estrutura (filtragem, cálculos estatísticos, transformações, etc.).\n",
    "* **Recombinação (Implícita):** Embora você trabalhe com as Series individualmente, elas mantêm o mesmo índice (as linhas do DataFrame). Isso permite que, ao realizar operações em diferentes Series do mesmo DataFrame, os dados se alinhem corretamente com base nesse índice, como se fossem \"recombinados\" implicitamente para a análise contextual.\n",
    "* **\"Dividir para Conquistar\":** Ao invés de tentar manipular um DataFrame inteiro de uma vez (o que pode ser complexo), você divide o problema em tarefas menores e mais gerenciáveis, trabalhando com cada coluna (Series) separadamente para atingir um objetivo maior (a análise completa do DataFrame)."
   ]
  }
 ],
 "metadata": {
  "kernelspec": {
   "display_name": "Python 3 (ipykernel)",
   "language": "python",
   "name": "python3"
  },
  "language_info": {
   "codemirror_mode": {
    "name": "ipython",
    "version": 3
   },
   "file_extension": ".py",
   "mimetype": "text/x-python",
   "name": "python",
   "nbconvert_exporter": "python",
   "pygments_lexer": "ipython3",
   "version": "3.11.5"
  }
 },
 "nbformat": 4,
 "nbformat_minor": 5
}
