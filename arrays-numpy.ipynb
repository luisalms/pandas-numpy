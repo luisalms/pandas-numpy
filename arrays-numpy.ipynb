{
 "cells": [
  {
   "cell_type": "markdown",
   "id": "b50af72a",
   "metadata": {},
   "source": [
    "# Arrays com NumPy"
   ]
  },
  {
   "cell_type": "markdown",
   "id": "f3959107",
   "metadata": {},
   "source": [
    "#### O que é um array?"
   ]
  },
  {
   "cell_type": "markdown",
   "id": "82364e5a",
   "metadata": {},
   "source": [
    "Em programação de computadores, um array é: uma estrutura para armazenar e recuperar dados. Frequentemente falamos de um array como se fosse uma grade no espaço, com cada célula armazenando um elemento dos dados. Por exemplo, se cada elemento dos dados fosse um número, poderíamos visualizar um array \"unidimensional\" como uma lista:"
   ]
  },
  {
   "cell_type": "code",
   "execution_count": 3,
   "id": "af198e9a",
   "metadata": {},
   "outputs": [
    {
     "name": "stdout",
     "output_type": "stream",
     "text": [
      "[32 24 51 66 90]\n"
     ]
    }
   ],
   "source": [
    "import numpy as np\n",
    "\n",
    "a = np.array([32, 24, 51, 66, 90])\n",
    "print(a)"
   ]
  },
  {
   "cell_type": "code",
   "execution_count": null,
   "id": "6e5df3a9",
   "metadata": {},
   "outputs": [],
   "source": []
  }
 ],
 "metadata": {
  "kernelspec": {
   "display_name": "Python 3 (ipykernel)",
   "language": "python",
   "name": "python3"
  },
  "language_info": {
   "codemirror_mode": {
    "name": "ipython",
    "version": 3
   },
   "file_extension": ".py",
   "mimetype": "text/x-python",
   "name": "python",
   "nbconvert_exporter": "python",
   "pygments_lexer": "ipython3",
   "version": "3.11.5"
  }
 },
 "nbformat": 4,
 "nbformat_minor": 5
}
